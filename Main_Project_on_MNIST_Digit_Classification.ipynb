{
  "nbformat": 4,
  "nbformat_minor": 0,
  "metadata": {
    "colab": {
      "provenance": []
    },
    "kernelspec": {
      "name": "python3",
      "display_name": "Python 3"
    },
    "language_info": {
      "name": "python"
    }
  },
  "cells": [
    {
      "cell_type": "code",
      "execution_count": 37,
      "metadata": {
        "id": "jVSE6b1c046m"
      },
      "outputs": [],
      "source": [
        "#Importing the Required Packages for the Model.\n",
        "\n",
        "import cv2 as cv\n",
        "import numpy as np\n",
        "import matplotlib.pyplot as plt\n",
        "import tensorflow as tf"
      ]
    },
    {
      "cell_type": "code",
      "source": [
        "#Loading the MNIST Dataset\n",
        "\n",
        "mnist = tf.keras.datasets.mnist\n",
        "(x_train, y_train), (x_test, y_test) = mnist.load_data()"
      ],
      "metadata": {
        "id": "IFu1fwWgCXir"
      },
      "execution_count": 38,
      "outputs": []
    },
    {
      "cell_type": "code",
      "source": [
        "#Printing the shapes\n",
        "\n",
        "print(x_train.shape, y_train.shape)\n",
        "print(x_test.shape , y_test.shape)"
      ],
      "metadata": {
        "colab": {
          "base_uri": "https://localhost:8080/"
        },
        "id": "E5kO-lA0exEK",
        "outputId": "ca58d497-f09c-4c87-cbf6-3613b3551929"
      },
      "execution_count": 39,
      "outputs": [
        {
          "output_type": "stream",
          "name": "stdout",
          "text": [
            "(60000, 28, 28) (60000,)\n",
            "(10000, 28, 28) (10000,)\n"
          ]
        }
      ]
    },
    {
      "cell_type": "code",
      "source": [
        "import matplotlib.pyplot as plt\n",
        "plt.imshow(x_train[0])\n",
        "plt.show()\n",
        "plt.imshow(x_train[0] , cmap = plt.cm.binary)"
      ],
      "metadata": {
        "colab": {
          "base_uri": "https://localhost:8080/",
          "height": 860
        },
        "id": "yZOOgOG0if7P",
        "outputId": "4ba56124-d0d0-47f0-accb-2e3179225597"
      },
      "execution_count": 40,
      "outputs": [
        {
          "output_type": "display_data",
          "data": {
            "text/plain": [
              "<Figure size 640x480 with 1 Axes>"
            ],
            "image/png": "[encoded data removed]"
          },
          "metadata": {}
        },
        {
          "output_type": "execute_result",
          "data": {
            "text/plain": [
              "<matplotlib.image.AxesImage at 0x7dd03bee0a00>"
            ]
          },
          "metadata": {},
          "execution_count": 40
        },
        {
          "output_type": "display_data",
          "data": {
            "text/plain": [
              "<Figure size 640x480 with 1 Axes>"
            ],
            "image/png": "[encoded data removed]"
          },
          "metadata": {}
        }
      ]
    },
    {
      "cell_type": "code",
      "source": [
        "#Normalizing the training and testing data using TensorFlow\n",
        "\n",
        "x_train = tf.keras.utils.normalize(x_train, axis=1)\n",
        "x_test = tf.keras.utils.normalize(x_test, axis=1)"
      ],
      "metadata": {
        "id": "9YewcJdoClNH"
      },
      "execution_count": 41,
      "outputs": []
    },
    {
      "cell_type": "code",
      "source": [
        "import tensorflow as tf\n",
        "from tensorflow.keras.layers import Conv2D, MaxPooling2D, Dropout, Flatten, Dense\n",
        "\n",
        "# Define the shape of your input data (e.g., for grayscale images with dimensions 28x28)\n",
        "shape = (28, 28, 1)\n",
        "\n",
        "model = tf.keras.models.Sequential()\n",
        "model.add(Conv2D(32, (3, 3), activation='relu', input_shape=shape))\n",
        "model.add(MaxPooling2D((2, 2)))  # First MaxPooling layer\n",
        "model.add(Conv2D(48, (3, 3), activation='relu'))\n",
        "model.add(MaxPooling2D((2, 2)))  # Second MaxPooling layer\n",
        "model.add(Dropout(0.5))\n",
        "model.add(Flatten())\n",
        "model.add(Dense(500, activation='relu'))\n",
        "model.add(Dense(10, activation='softmax'))"
      ],
      "metadata": {
        "id": "BWF6JHjFC1zk"
      },
      "execution_count": 42,
      "outputs": []
    },
    {
      "cell_type": "code",
      "source": [
        "#Compiling the model\n",
        "model.compile(optimizer='adam', loss='sparse_categorical_crossentropy', metrics=['accuracy'])\n",
        "#Training the model\n",
        "model.fit(x_train,y_train, epochs=3)"
      ],
      "metadata": {
        "colab": {
          "base_uri": "https://localhost:8080/"
        },
        "id": "r_vbZGAKDdpq",
        "outputId": "6ba4d94b-3043-4f3f-ef3d-c700d392eaaf"
      },
      "execution_count": 43,
      "outputs": [
        {
          "output_type": "stream",
          "name": "stdout",
          "text": [
            "Epoch 1/3\n",
            "1875/1875 [==============================] - 61s 32ms/step - loss: 0.1908 - accuracy: 0.9402\n",
            "Epoch 2/3\n",
            "1875/1875 [==============================] - 58s 31ms/step - loss: 0.0745 - accuracy: 0.9770\n",
            "Epoch 3/3\n",
            "1875/1875 [==============================] - 59s 32ms/step - loss: 0.0538 - accuracy: 0.9820\n"
          ]
        },
        {
          "output_type": "execute_result",
          "data": {
            "text/plain": [
              "<keras.src.callbacks.History at 0x7dd03b49c190>"
            ]
          },
          "metadata": {},
          "execution_count": 43
        }
      ]
    },
    {
      "cell_type": "code",
      "source": [
        "#Printing the Accuracy level\n",
        "loss, accuracy= model.evaluate(x_test, y_test)\n",
        "accuracy*100"
      ],
      "metadata": {
        "colab": {
          "base_uri": "https://localhost:8080/"
        },
        "id": "CHZu47uHD4PN",
        "outputId": "3b5c552f-f708-4532-a530-eb3d274c3435"
      },
      "execution_count": 44,
      "outputs": [
        {
          "output_type": "stream",
          "name": "stdout",
          "text": [
            "313/313 [==============================] - 3s 9ms/step - loss: 0.0372 - accuracy: 0.9878\n"
          ]
        },
        {
          "output_type": "execute_result",
          "data": {
            "text/plain": [
              "98.78000020980835"
            ]
          },
          "metadata": {},
          "execution_count": 44
        }
      ]
    },
    {
      "cell_type": "code",
      "source": [
        "model.summary()"
      ],
      "metadata": {
        "colab": {
          "base_uri": "https://localhost:8080/"
        },
        "id": "3axJ61q2gOH_",
        "outputId": "e2ac4a31-588b-4362-f1b7-e3a2cbfa294a"
      },
      "execution_count": 45,
      "outputs": [
        {
          "output_type": "stream",
          "name": "stdout",
          "text": [
            "Model: \"sequential_5\"\n",
            "_________________________________________________________________\n",
            " Layer (type)                Output Shape              Param #   \n",
            "=================================================================\n",
            " conv2d_4 (Conv2D)           (None, 26, 26, 32)        320       \n",
            "                                                                 \n",
            " max_pooling2d_2 (MaxPoolin  (None, 13, 13, 32)        0         \n",
            " g2D)                                                            \n",
            "                                                                 \n",
            " conv2d_5 (Conv2D)           (None, 11, 11, 48)        13872     \n",
            "                                                                 \n",
            " max_pooling2d_3 (MaxPoolin  (None, 5, 5, 48)          0         \n",
            " g2D)                                                            \n",
            "                                                                 \n",
            " dropout_6 (Dropout)         (None, 5, 5, 48)          0         \n",
            "                                                                 \n",
            " flatten_5 (Flatten)         (None, 1200)              0         \n",
            "                                                                 \n",
            " dense_15 (Dense)            (None, 500)               600500    \n",
            "                                                                 \n",
            " dense_16 (Dense)            (None, 10)                5010      \n",
            "                                                                 \n",
            "=================================================================\n",
            "Total params: 619702 (2.36 MB)\n",
            "Trainable params: 619702 (2.36 MB)\n",
            "Non-trainable params: 0 (0.00 Byte)\n",
            "_________________________________________________________________\n"
          ]
        }
      ]
    },
    {
      "cell_type": "code",
      "source": [
        "#Saving the model\n",
        "model.save('RequiredModel')"
      ],
      "metadata": {
        "id": "qG0Yf2KiEQ0w"
      },
      "execution_count": 46,
      "outputs": []
    },
    {
      "cell_type": "code",
      "source": [
        "import cv2 as cv\n",
        "import numpy as np\n",
        "import matplotlib.pyplot as plt\n",
        "from keras.preprocessing.image import img_to_array\n",
        "\n",
        "# List of image names\n",
        "image_names = ['/content/N0.png','/content/N11.png', '/content/N2.png', '/content/N3.png', '/content/N4.png', '/content/N5.png', '/content/N6.png', '/content/N7.png', '/content/N8.png', '/content/N9.png']\n",
        "k=0\n",
        "for image_name in image_names:\n",
        "    # Loading the image\n",
        "    img = cv.imread(image_name)\n",
        "\n",
        "    # Checking if the image was loaded successfully\n",
        "    if img is None:\n",
        "        print(f\"Error: Unable to load {image_name}\")\n",
        "        continue\n",
        "\n",
        "    # Converting to grayscale\n",
        "    img = img[:,:,0]\n",
        "\n",
        "    # Resizing the image to match the model's input shape (28, 28)\n",
        "    img = cv.resize(img, (28, 28))\n",
        "\n",
        "    # Inverting the image\n",
        "    img = np.invert(np.array([img]))\n",
        "\n",
        "    # Predict using the model\n",
        "    img = img_to_array(img)\n",
        "    img = img.reshape(1, 28, 28)\n",
        "    prediction = model.predict(img)\n",
        "\n",
        "    # Display the result\n",
        "    print(f'True number of the given input image is: {k}')\n",
        "    k+=1\n",
        "    print(f'The result for {image_name} is probably: {np.argmax(prediction)}')\n"
      ],
      "metadata": {
        "colab": {
          "base_uri": "https://localhost:8080/"
        },
        "id": "yFceiXxhHpMP",
        "outputId": "fb0cd369-95a7-41e4-a1b3-233b49ead440"
      },
      "execution_count": 47,
      "outputs": [
        {
          "output_type": "stream",
          "name": "stdout",
          "text": [
            "1/1 [==============================] - 0s 80ms/step\n",
            "True number of the given input image is: 0\n",
            "The result for /content/N0.png is probably: 0\n",
            "1/1 [==============================] - 0s 21ms/step\n",
            "True number of the given input image is: 1\n",
            "The result for /content/N11.png is probably: 1\n",
            "1/1 [==============================] - 0s 22ms/step\n",
            "True number of the given input image is: 2\n",
            "The result for /content/N2.png is probably: 2\n",
            "1/1 [==============================] - 0s 24ms/step\n",
            "True number of the given input image is: 3\n",
            "The result for /content/N3.png is probably: 3\n",
            "1/1 [==============================] - 0s 25ms/step\n",
            "True number of the given input image is: 4\n",
            "The result for /content/N4.png is probably: 4\n",
            "1/1 [==============================] - 0s 23ms/step\n",
            "True number of the given input image is: 5\n",
            "The result for /content/N5.png is probably: 5\n",
            "1/1 [==============================] - 0s 24ms/step\n",
            "True number of the given input image is: 6\n",
            "The result for /content/N6.png is probably: 6\n",
            "1/1 [==============================] - 0s 24ms/step\n",
            "True number of the given input image is: 7\n",
            "The result for /content/N7.png is probably: 8\n",
            "1/1 [==============================] - 0s 27ms/step\n",
            "True number of the given input image is: 8\n",
            "The result for /content/N8.png is probably: 8\n",
            "1/1 [==============================] - 0s 25ms/step\n",
            "True number of the given input image is: 9\n",
            "The result for /content/N9.png is probably: 4\n"
          ]
        }
      ]
    }
  ]
}